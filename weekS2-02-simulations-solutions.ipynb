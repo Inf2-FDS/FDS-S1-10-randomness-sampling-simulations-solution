{
 "cells": [
  {
   "cell_type": "markdown",
   "metadata": {},
   "source": [
    "# FDS Lab S2-02: Randomness, Sampling and Simulations\n",
    "\n",
    "Welcome to the new semester and the first lab! We hope you had a relaxing break.\n",
    "\n",
    "**Learning outcomes:** In this lab you will learn about functions that generate random numbers, sampling, and how they can be used to run statistical simulations. By the end of this lab you should be able to:\n",
    "- sample from probability distributions using numpy functions,\n",
    "- sample from discrete sets of items,\n",
    "- run statistical simulations to compute the distribution of a statistic,\n",
    "- identify samples of convenience and problems with them, and\n",
    "- code more complex statistical processes so that they can be run/sampled from.\n",
    "\n",
    "We will go over simulations and randomness, from the topic on \"Randomness, sampling and simulation\".\n",
    "\n",
    "Parts of this lab is based on Lab 5 from the Berkley Data 8 course.\n",
    "\n",
    "**Data set information:** The data used in this lab will contain salary data and other statistics for basketball players from the 2014-2015 NBA season. This data was collected from the following sports analytic sites: [Basketball Reference](http://www.basketball-reference.com) and [Spotrac](http://www.spotrac.com).\n",
    "\n",
    "Let us start, as usual, by importing the necessary libraries set up the imports by running the cell below."
   ]
  },
  {
   "cell_type": "code",
   "execution_count": null,
   "metadata": {},
   "outputs": [],
   "source": [
    "import numpy as np\n",
    "import pandas as pd\n",
    "import matplotlib\n",
    "%matplotlib inline\n",
    "import matplotlib.pyplot as plt\n",
    "\n",
    "# New libraries\n",
    "from scipy.stats import uniform, norm, expon"
   ]
  },
  {
   "cell_type": "markdown",
   "metadata": {},
   "source": [
    "# 1. Sampling from a probability distribution\n",
    "\n",
    "First we'll test sampling from probability distributions in python. For a uniform distribution between 0 and 1, this can be done using the `np.random.uniform` function. \n",
    "\n",
    "**Exercise 01:** \n",
    "- Generate 1000 samples from a uniform distribution using `np.random.uniform(size = integer)`,where you substitute `integer` with the sample size. \n",
    "- Plot a histogram of the results. \n",
    "- Create a new figure with three subplots, where you repeat this with more samples (say 100000, i.e. $10^5$) and fewer samples (say 100). What do you observe? \n",
    "\n",
    "*Hint: You should get something that looks like the uniform distribution in Figure 1 of the Randomness, Simulation and Sampling lecture notes.*"
   ]
  },
  {
   "cell_type": "code",
   "execution_count": null,
   "metadata": {},
   "outputs": [],
   "source": [
    "# Your code\n",
    "x = np.random.uniform(size=1000)\n",
    "plt.hist(x, 10)\n",
    "plt.xlabel(\"x\")\n",
    "plt.ylabel(\"Frequency\")"
   ]
  },
  {
   "cell_type": "code",
   "execution_count": null,
   "metadata": {},
   "outputs": [],
   "source": [
    "# Your code\n",
    "x1 = np.random.uniform(size=100)\n",
    "x2 = np.random.uniform(size=1000)\n",
    "x3 = np.random.uniform(size=100000)\n",
    "fig, (ax1, ax2, ax3) = plt.subplots(1,3, figsize=(6,2))\n",
    "ax1.hist(x1, 10)\n",
    "ax1.set_xlabel(\"x\")\n",
    "ax1.set_ylabel(\"Frequency\")\n",
    "ax2.hist(x2, 10)\n",
    "ax2.set_xlabel(\"x\")\n",
    "ax3.hist(x3, 10)\n",
    "ax3.set_xlabel(\"x\")\n",
    "plt.tight_layout()"
   ]
  },
  {
   "cell_type": "markdown",
   "metadata": {},
   "source": [
    "Your answer: \n",
    "The more samples we use the more it looks like a uniform distribution."
   ]
  },
  {
   "cell_type": "markdown",
   "metadata": {},
   "source": [
    "**Exercise 02:** Repeat this exercise for  normal and exponential distributions using `np.random.normal` and `np.random.exponential`, using a 2x3 layout."
   ]
  },
  {
   "cell_type": "code",
   "execution_count": null,
   "metadata": {},
   "outputs": [],
   "source": [
    "# Your code\n",
    "x1 = np.random.normal(size=100)\n",
    "x2 = np.random.normal(size=1000)\n",
    "x3 = np.random.normal(size=100000)\n",
    "y1 = np.random.exponential(size=100)\n",
    "y2 = np.random.exponential(size=1000)\n",
    "y3 = np.random.exponential(size=100000)\n",
    "fig, ((ax1, ax2, ax3),(ax4, ax5, ax6)) = plt.subplots(2,3, figsize=(6, 4))\n",
    "ax1.hist(x1, 10)\n",
    "ax1.set_ylabel(\"Frequency\")\n",
    "ax2.hist(x2, 10)\n",
    "ax2.set_title(\"Normal distribution\")\n",
    "ax3.hist(x3, 10)\n",
    "ax4.hist(y1, 10)\n",
    "ax4.set_ylabel(\"Frequency\")\n",
    "ax4.set_xlabel(\"x\")\n",
    "ax5.hist(y2, 10)\n",
    "ax5.set_title(\"Exponential distribution\")\n",
    "ax5.set_xlabel(\"x\")\n",
    "ax6.hist(y3, 10)\n",
    "ax6.set_xlabel(\"x\")\n",
    "plt.tight_layout()"
   ]
  },
  {
   "cell_type": "markdown",
   "metadata": {},
   "source": [
    "# 2. Sampling from a set of discrete items\n",
    "\n",
    "One day, when you come home after a long week, you see a hot bowl of nachos waiting on the dining table! Let's say that whenever you take a nacho from the bowl, it will either have only **cheese**, only **salsa**, **both** cheese and salsa, or **neither** cheese nor salsa (a sad tortilla chip indeed). \n",
    "\n",
    "Let's try and simulate taking nachos from the bowl at random using the function, `np.random.choice(...)`.\n",
    "\n",
    "### `np.random.choice`\n",
    "\n",
    "`np.random.choice` picks one item at random from the given array. It is equally likely to pick any of the items. Run the cell below several times, and observe how the results change."
   ]
  },
  {
   "cell_type": "code",
   "execution_count": null,
   "metadata": {},
   "outputs": [],
   "source": [
    "nachos = ['cheese', 'salsa', 'both', 'neither']\n",
    "np.random.choice(nachos)"
   ]
  },
  {
   "cell_type": "markdown",
   "metadata": {},
   "source": [
    "### Sampling with replacement\n",
    "\n",
    "To repeat this process multiple times, pass in an int `n` as the second argument to return `n` different random choices. By default, `np.random.choice` samples **with replacement** and returns an *array* of items. \n",
    "\n",
    "Run the next cell to see an example of sampling with replacement 3 times from the `nachos` array."
   ]
  },
  {
   "cell_type": "code",
   "execution_count": null,
   "metadata": {},
   "outputs": [],
   "source": [
    "np.random.choice(nachos, 3)"
   ]
  },
  {
   "cell_type": "markdown",
   "metadata": {},
   "source": [
    "### Sampling without replacement\n",
    "\n",
    "Let's see what happens when we sample without replacement. Use the `replace=False` option to sample 3 items repeatedly."
   ]
  },
  {
   "cell_type": "code",
   "execution_count": null,
   "metadata": {},
   "outputs": [],
   "source": [
    "np.random.choice(nachos, 3, replace=False)"
   ]
  },
  {
   "cell_type": "markdown",
   "metadata": {},
   "source": [
    "This means that when we sample without replacement, each time we sample, we remove the sampled option from the set."
   ]
  },
  {
   "cell_type": "markdown",
   "metadata": {},
   "source": [
    "## 2. Statistical simulation\n",
    "\n",
    "In the lectures, we've defined a statistical simulation as follows:\n",
    "\n",
    "First, decide on:\n",
    "- The statistic of interest (mean $\\overline{X}$, standard deviation $S$, Total, etc.)\n",
    "- The population distribution (e.g. normal with particular mean\n",
    "  and variance) or set of discrete items\n",
    "- The sample size $n$\n",
    "- The number of replications $k$ \n",
    "\n",
    "Then simulate according to this procedure:\n",
    "- For $i$ in $1,\\dots, k$\n",
    "  - Sample $n$ items from the population distribution or set of\n",
    "    discrete items\n",
    "  - Compute and store the statistic of interest for this sample\n",
    "- Generate a histogram of the $k$ stored sample statistics\n",
    "\n",
    "**Exercise 03:** Run a statistical simulation of the mean of the exponential distribution with a sample size $n=10$ and $k=10000$ replications. You should end up with a plot that looks like the bottom left plot of Figure 3 in the lecture notes on \"Randomness, sampling and simulation\"."
   ]
  },
  {
   "cell_type": "code",
   "execution_count": null,
   "metadata": {},
   "outputs": [],
   "source": [
    "# Your code\n",
    "k = 10000\n",
    "n = 10\n",
    "all_means = np.zeros(k)\n",
    "for i in range(0, k):\n",
    "    x = np.random.exponential(size=n)\n",
    "    all_means[i] = x.mean()\n",
    "    \n",
    "plt.hist(all_means, 20)"
   ]
  },
  {
   "cell_type": "markdown",
   "metadata": {},
   "source": [
    "## 3. Sampling Basketball Data\n",
    "\n",
    "We will now look in more detail at sampling from an observed dataset. At the end of this section we will have coded up one repetition of a statistical simulation.\n",
    "\n",
    "**Exercise 04:** \n",
    "- Load the `player_data.csv` and `salary_data.csv` in the `datasets` folder as `player_data` and `salary_data`, respectively. \n",
    "- Look at the top five entries. \n",
    "- Then combine the data sets into one data set `full_data`. \n",
    "- Normalize the salary column, such that the salary is stored in millions."
   ]
  },
  {
   "cell_type": "code",
   "execution_count": null,
   "metadata": {},
   "outputs": [],
   "source": [
    "# Your code\n",
    "player_data = pd.read_csv(\"datasets/player_data.csv\")\n",
    "salary_data = pd.read_csv(\"datasets/salary_data.csv\")\n",
    "player_data.head(3)"
   ]
  },
  {
   "cell_type": "code",
   "execution_count": null,
   "metadata": {},
   "outputs": [],
   "source": [
    "salary_data.head(3)"
   ]
  },
  {
   "cell_type": "code",
   "execution_count": null,
   "metadata": {},
   "outputs": [],
   "source": [
    "full_data = pd.merge(salary_data, player_data,\n",
    "                     left_on=\"PlayerName\", right_on=\"Name\")\n",
    "full_data['Salary']=full_data['Salary']/1000000\n",
    "full_data.head(3)"
   ]
  },
  {
   "cell_type": "markdown",
   "metadata": {},
   "source": [
    "Rather than getting data on every player (as in the tables loaded above), imagine that we had got data on only a smaller subset of the players. For 492 players, it's not so unreasonable to expect to see all the data, but usually we aren't so lucky. \n",
    "\n",
    "If we want to make estimates about a certain numerical property of the population (known as a parameter, e.g. the mean or median), we may have to come up with these estimates based only on a smaller sample. Whether these estimates are useful or not often depends on how the sample was gathered. We'll ask you to create your own samples to see how they behave.\n",
    "\n",
    "To save typing and increase the clarity of your code, we recommend packaging the analysis code into a few functions. This will be useful in the rest of the lab as we will repeatedly need to create histograms and collect summary statistics from that data.\n",
    "\n",
    "**Exercise 05:** Write a `histograms` function, which takes a data frame with columns `Age` and `Salary` and draws a histogram for each one. It should use bin widths of 1 year for `Age` and $1,000,000 for `Salary`. Test it on the `full_data` dataset."
   ]
  },
  {
   "cell_type": "code",
   "execution_count": null,
   "metadata": {},
   "outputs": [],
   "source": [
    "# Your code\n",
    "def histograms(df):\n",
    "    # The +2 is needed to create the right number of bins\n",
    "    age_bins = np.arange(min(df['Age']), max(df['Age']) + 2, 1)\n",
    "    salary_bins = np.arange(min(df['Salary']), max(df['Salary']) + 2, 1)\n",
    "    fig, (ax1, ax2) = plt.subplots(1, 2, figsize=(6, 4))\n",
    "    ax1.hist(df['Age'], bins=age_bins)\n",
    "    ax1.set_ylabel('Frequency')\n",
    "    ax1.set_xlabel('Age (year)')\n",
    "    ax1.set_title('Age distribution')\n",
    "    ax2.hist(df['Salary'], bins=salary_bins)\n",
    "    ax2.set_xlabel('Salary (million dollars)')\n",
    "    ax2.set_title('Salary distribution') \n",
    "    plt.tight_layout()\n",
    "    \n",
    "histograms(full_data)"
   ]
  },
  {
   "cell_type": "markdown",
   "metadata": {},
   "source": [
    "**Exercise 06:** Create a `compute_statistics` which takes a data frame with columns `Age` and `Salary` Returns a pandas Series containing the mean age and mean salary. Run it on the `full_data` dataset."
   ]
  },
  {
   "cell_type": "code",
   "execution_count": null,
   "metadata": {},
   "outputs": [],
   "source": [
    "# Your code\n",
    "def compute_statistics(df):\n",
    "    return pd.Series([df['Age'].mean(),\n",
    "            df['Salary'].mean()])    \n",
    "\n",
    "full_stats = compute_statistics(full_data)\n",
    "full_stats"
   ]
  },
  {
   "cell_type": "markdown",
   "metadata": {},
   "source": [
    "### Convenience sampling\n",
    "One sampling methodology, which is **generally a bad idea**, is to choose players who are somehow convenient to sample.  For example, you might choose players from one team who are near your house, since it's easier to survey them.  This is called, somewhat pejoratively, *convenience sampling*.\n",
    "\n",
    "Suppose you survey only *relatively new* players with ages less than 22.  (The more experienced players didn't bother to answer your surveys about their salaries.)\n",
    "\n",
    "**Exercise 07:**  \n",
    "- Create a copy of the full data frame containing only players under the age of 22 and call it `convenience_sample`.\n",
    "- Plut the distributions of `Age` and `Salary` using the `histograms` function.\n",
    "- Use the `compute_statistics` function on the new data frame and store the results in `convenience_stats`.\n",
    "\n",
    "Since they're computed on a sample, these are called *sample means*. "
   ]
  },
  {
   "cell_type": "code",
   "execution_count": null,
   "metadata": {},
   "outputs": [],
   "source": [
    "# Your code\n",
    "convenience_sample = full_data[full_data['Age'] < 22]\n",
    "histograms(convenience_sample)"
   ]
  },
  {
   "cell_type": "code",
   "execution_count": null,
   "metadata": {},
   "outputs": [],
   "source": [
    "# Your code\n",
    "convenience_stats = compute_statistics(convenience_sample)\n",
    "convenience_stats"
   ]
  },
  {
   "cell_type": "markdown",
   "metadata": {},
   "source": [
    "**Discussion:** Does the convenience sample give us an accurate picture of the salary of the full population? Discuss why it does or does not give an accurate picture? You may wish to refer to the means of the full data set and the convenience sample."
   ]
  },
  {
   "cell_type": "markdown",
   "metadata": {},
   "source": [
    "Your answer:\n",
    "The convenience sample does not give us an accurate picture of the salary of the full population. Younger players tend to be paid less, so we are seeing a smaller range of salaries."
   ]
  },
  {
   "cell_type": "markdown",
   "metadata": {},
   "source": [
    "### Simple random sampling\n",
    "A more justifiable approach is to sample uniformly at random from the players.  In a **simple random sample (SRS) without replacement**, we ensure that each player is selected at most once. Imagine writing down each player's name on a card, putting the cards in an box, and shaking the box.  Then, pull out cards one by one and set them aside, stopping when the specified sample size is reached."
   ]
  },
  {
   "cell_type": "markdown",
   "metadata": {},
   "source": [
    "### Producing simple random samples\n",
    "Sometimes, it’s useful to take random samples even when we have the data for the whole population. It helps us understand sampling accuracy.\n",
    "\n",
    "### `sample`\n",
    "\n",
    "The data frame method `sample` produces a random sample from the data frame. By default, it draws at random **without replacement** from the rows of a table. It takes in the sample size as its argument and returns a **data frame** with only the rows that were selected.\n",
    "\n",
    "**Careful:** The default parameter for `replace` in `pd.sample` is `replace=False`, in contrast to `np.random.choice`, where it is `replace=True`.\n",
    "\n",
    "The optional argument `replace=True` is passed to `pd.sample()` to specify that the sample should be drawn with replacement. \n",
    "\n",
    "Run the cell below to see an example call to `pd.sample()` with a sample size of 5, without replacement."
   ]
  },
  {
   "cell_type": "code",
   "execution_count": null,
   "metadata": {},
   "outputs": [],
   "source": [
    "salary_data.sample(5, replace=False)"
   ]
  },
  {
   "cell_type": "markdown",
   "metadata": {},
   "source": [
    "**Exercise 08:** This time we run the analysis on uniformly sampled sets.\n",
    "- Create an empty data frame `results` with two columns `Age` and `Salary`.\n",
    "- Run 100 simulations:\n",
    "    - Produce a simple random sample of size 44 (10%) from `full_data`\n",
    "    - Compute the statistics using your function\n",
    "    - Store the results of each run in a new row of the `results` data frame\n",
    "\n",
    "- Compute the mean and the variance of each column of the `results` data frame\n",
    "- Print the results data frame\n",
    "- Do the means of each simulation represent well the full data set?"
   ]
  },
  {
   "cell_type": "code",
   "execution_count": null,
   "metadata": {},
   "outputs": [],
   "source": [
    "# Your code\n",
    "results = pd.DataFrame(columns=['Age', 'Salary'])\n",
    "for i in range(0,100):\n",
    "    subset = full_data.sample(44, replace=False)\n",
    "    subset_stats = compute_statistics(subset)\n",
    "    results.loc[i] = dict(Age=subset_stats[0], Salary=subset_stats[1])\n",
    "print(\"Mean age:\" + str(results.Age.mean()))\n",
    "print(\"Mean salary:\" + str(results.Salary.mean()))\n",
    "print(\"Variance age:\" + str(results.Age.var()))\n",
    "print(\"Variance salary:\" + str(results.Salary.var()))\n",
    "results"
   ]
  },
  {
   "cell_type": "markdown",
   "metadata": {},
   "source": [
    "Your answer:\n",
    "\n",
    "By sampling randomly, the statistics are closer to the real statistics."
   ]
  },
  {
   "cell_type": "markdown",
   "metadata": {},
   "source": [
    "**Exercise 09:** Repeat exercise 08 but with a sample size of 100.\n",
    "- Do the histogram shapes seem to change more or less across samples of 100 than across samples of size 44?  \n",
    "- Are the sample means and histograms closer to their true values/shape for age or for salary? How about the variance? What did you expect to see?"
   ]
  },
  {
   "cell_type": "code",
   "execution_count": null,
   "metadata": {},
   "outputs": [],
   "source": [
    "# Your code\n",
    "results = pd.DataFrame(columns=['Age', 'Salary'])\n",
    "for i in range(0,100):\n",
    "    subset = full_data.sample(100, replace=False)\n",
    "    subset_stats = compute_statistics(subset)\n",
    "    results.loc[i] = dict(Age=subset_stats[0], Salary=subset_stats[1])\n",
    "print(\"Mean age:\" + str(results.Age.mean()))\n",
    "print(\"Mean salary:\" + str(results.Salary.mean()))\n",
    "print(\"Variance age:\" + str(results.Age.var()))\n",
    "print(\"Variance salary:\" + str(results.Salary.var()))\n",
    "results"
   ]
  },
  {
   "cell_type": "markdown",
   "metadata": {},
   "source": [
    "Your answer:\n",
    "- The variance of the statistics is smaller. Thus these samples represent the full data better.\n",
    "- The histograms are closer to the histograms of the full data set."
   ]
  },
  {
   "cell_type": "markdown",
   "metadata": {},
   "source": [
    "## 4. Statistical simulation of Alabama v Swain (1965)\n",
    "\n",
    "**Exercise 10:** Use what you've learned in this lab to replicate the simulation of the Alabama v Swain (1965) case from the lecture notes. In summary:\n",
    "- Use a statistical simulation to generate the distribution of the number of Black people on a jury panel of 100 that that would be chosen randomly from a population comprising 26% Black and 74% non-Black people\n",
    "- Plot a histogram of the distribution and also plot the actual number observed, which was 8."
   ]
  },
  {
   "cell_type": "code",
   "execution_count": null,
   "metadata": {},
   "outputs": [],
   "source": [
    "# Your answer\n",
    "population_proportions = [.26, .74]\n",
    "def panel_number_black():\n",
    "    panel = np.random.choice(['Black', 'Non-Black'], 100, True, population_proportions)\n",
    "    return(np.sum(panel == 'Black'))\n",
    "\n",
    "k = 10000\n",
    "panels = np.zeros(k)\n",
    "\n",
    "for i in np.arange(k):\n",
    "    panels[i] = panel_number_black()"
   ]
  },
  {
   "cell_type": "code",
   "execution_count": null,
   "metadata": {},
   "outputs": [],
   "source": [
    "hist_panels = plt.hist(panels, bins=np.arange(5.5,40.))\n",
    "plt.scatter(8, 10, color='red')\n",
    "plt.title('Simulation')\n",
    "\n",
    "plt.xlabel('Number of Black people on panel')\n",
    "plt.ylabel('Frequency')"
   ]
  },
  {
   "cell_type": "markdown",
   "metadata": {},
   "source": [
    "**We need your help:** This is a new course. In order for us to improve the labs for the next iterations, and to make sure that the next labs are better, we need your feedback. Please fill out the following [form](https://forms.office.com/Pages/ResponsePage.aspx?id=sAafLmkWiUWHiRCgaTTcYZmGMCx4KxlMjSTITqjdcXpUOTk2QTZRRjNZTUlINTk3WlNGUkRKTzFRVy4u)."
   ]
  }
 ],
 "metadata": {
  "kernelspec": {
   "display_name": "Python 3",
   "language": "python",
   "name": "python3"
  },
  "language_info": {
   "codemirror_mode": {
    "name": "ipython",
    "version": 3
   },
   "file_extension": ".py",
   "mimetype": "text/x-python",
   "name": "python",
   "nbconvert_exporter": "python",
   "pygments_lexer": "ipython3",
   "version": "3.6.9"
  }
 },
 "nbformat": 4,
 "nbformat_minor": 4
}
